{
 "cells": [
  {
   "cell_type": "code",
   "execution_count": 4,
   "metadata": {},
   "outputs": [],
   "source": [
    "using CorrectMatch: Copula, Uniqueness, Individual\n",
    "using StatsBase\n",
    "using CSV, CodecZlib\n",
    "using Distributions"
   ]
  },
  {
   "cell_type": "code",
   "execution_count": 9,
   "metadata": {},
   "outputs": [
    {
     "name": "stderr",
     "output_type": "stream",
     "text": [
      "WARNING: imported binding for df overwritten in module Main\n"
     ]
    },
    {
     "data": {
      "text/plain": [
       "32561"
      ]
     },
     "execution_count": 9,
     "metadata": {},
     "output_type": "execute_result"
    }
   ],
   "source": [
    "df = CSV.read(open(\"adults.csv\"))"
   ]
  },
  {
   "cell_type": "code",
   "execution_count": 65,
   "metadata": {},
   "outputs": [
    {
     "data": {
      "text/plain": [
       "(32561, 6)"
      ]
     },
     "execution_count": 65,
     "metadata": {},
     "output_type": "execute_result"
    }
   ],
   "source": [
    "df_sub = df[[:age, :sex, :workclass, :relationship, Symbol(\"marital-status\"), :race]];\n",
    "data = Array{Int}(df_sub)\n",
    "N, M = size(data)"
   ]
  },
  {
   "cell_type": "code",
   "execution_count": 66,
   "metadata": {},
   "outputs": [
    {
     "data": {
      "text/plain": [
       "(32561, 6)"
      ]
     },
     "execution_count": 66,
     "metadata": {},
     "output_type": "execute_result"
    }
   ],
   "source": [
    "N, M = size(data)"
   ]
  },
  {
   "cell_type": "markdown",
   "metadata": {},
   "source": [
    "## Estimating population uniqueness"
   ]
  },
  {
   "cell_type": "code",
   "execution_count": 67,
   "metadata": {},
   "outputs": [
    {
     "name": "stdout",
     "output_type": "stream",
     "text": [
      "True population uniqueness: 0.10853475016123583\n"
     ]
    }
   ],
   "source": [
    "# True population uniqueness\n",
    "u = uniqueness(data)\n",
    "println(\"True population uniqueness: $u\")"
   ]
  },
  {
   "cell_type": "code",
   "execution_count": 68,
   "metadata": {},
   "outputs": [
    {
     "name": "stdout",
     "output_type": "stream",
     "text": [
      "Estimated population uniqueness: 0.12794447344983262\n"
     ]
    }
   ],
   "source": [
    "# Fit model and estimate uniqueness\n",
    "G = fit_mle(GaussianCopula, data; exact_marginal=true)\n",
    "u = uniqueness(rand(G, N))\n",
    "println(\"Estimated population uniqueness: $u\")"
   ]
  },
  {
   "cell_type": "code",
   "execution_count": 69,
   "metadata": {},
   "outputs": [
    {
     "name": "stdout",
     "output_type": "stream",
     "text": [
      "Estimated population uniqueness (1% sample): 0.12435121771444366\n"
     ]
    }
   ],
   "source": [
    "# Fit model on 325 records (1% of the original data) and estimate uniqueness\n",
    "ix = sample(1:N, 325; replace=false);\n",
    "G = fit_mle(GaussianCopula, data[ix, :]; exact_marginal=false)\n",
    "u = uniqueness(rand(G, N))\n",
    "println(\"Estimated population uniqueness (1% sample): $u\")"
   ]
  },
  {
   "cell_type": "markdown",
   "metadata": {},
   "source": [
    "## Estimating individual uniqueness"
   ]
  },
  {
   "cell_type": "code",
   "execution_count": 70,
   "metadata": {},
   "outputs": [],
   "source": [
    "function extract_marginal_ordered(row::AbstractVector)\n",
    "  cm = collect(values(countmap(row; alg=:dict)))\n",
    "  Categorical(cm / sum(cm))\n",
    "end\n",
    "\n",
    "marginals = [extract_marginal_ordered(data[:, i]) for i=1:M];"
   ]
  },
  {
   "cell_type": "code",
   "execution_count": 71,
   "metadata": {},
   "outputs": [],
   "source": [
    "G = fit_mle(GaussianCopula, marginals, data);"
   ]
  },
  {
   "cell_type": "markdown",
   "metadata": {},
   "source": [
    "### Likely unique individual"
   ]
  },
  {
   "cell_type": "code",
   "execution_count": 120,
   "metadata": {},
   "outputs": [
    {
     "data": {
      "text/plain": [
       "6-element Array{Int64,1}:\n",
       " 39\n",
       "  1\n",
       "  7\n",
       "  1\n",
       "  4\n",
       "  4"
      ]
     },
     "execution_count": 120,
     "metadata": {},
     "output_type": "execute_result"
    }
   ],
   "source": [
    "indiv = data[1, :] # 39 years old male with non Asian/Black/White race"
   ]
  },
  {
   "cell_type": "code",
   "execution_count": 118,
   "metadata": {},
   "outputs": [
    {
     "data": {
      "text/plain": [
       "0.9962405323678928"
      ]
     },
     "execution_count": 118,
     "metadata": {},
     "output_type": "execute_result"
    }
   ],
   "source": [
    "shifted_indiv = indiv - minimum(data, 1)[:] + 1\n",
    "Individual.individual_uniqueness(G, shifted_indiv, N)"
   ]
  },
  {
   "cell_type": "markdown",
   "metadata": {},
   "source": [
    "### Unlikely unique individual"
   ]
  },
  {
   "cell_type": "code",
   "execution_count": 121,
   "metadata": {},
   "outputs": [
    {
     "data": {
      "text/plain": [
       "6-element Array{Int64,1}:\n",
       " 30\n",
       "  1\n",
       "  7\n",
       "  0\n",
       "  2\n",
       "  1"
      ]
     },
     "execution_count": 121,
     "metadata": {},
     "output_type": "execute_result"
    }
   ],
   "source": [
    "indiv = data[12, :] # 30 years old white male"
   ]
  },
  {
   "cell_type": "code",
   "execution_count": 113,
   "metadata": {},
   "outputs": [
    {
     "data": {
      "text/plain": [
       "0.0002859441553556916"
      ]
     },
     "execution_count": 113,
     "metadata": {},
     "output_type": "execute_result"
    }
   ],
   "source": [
    "shifted_indiv = indiv - minimum(data, 1)[:] + 1\n",
    "Individual.individual_uniqueness(G, shifted_indiv, N)"
   ]
  },
  {
   "cell_type": "code",
   "execution_count": null,
   "metadata": {},
   "outputs": [],
   "source": []
  }
 ],
 "metadata": {
  "kernelspec": {
   "display_name": "Julia 0.6.2",
   "language": "julia",
   "name": "julia-0.6"
  },
  "language_info": {
   "file_extension": ".jl",
   "mimetype": "application/julia",
   "name": "julia",
   "version": "0.6.2"
  },
  "toc": {
   "nav_menu": {},
   "number_sections": true,
   "sideBar": true,
   "skip_h1_title": false,
   "title_cell": "Table of Contents",
   "title_sidebar": "Contents",
   "toc_cell": false,
   "toc_position": {},
   "toc_section_display": true,
   "toc_window_display": false
  }
 },
 "nbformat": 4,
 "nbformat_minor": 2
}
